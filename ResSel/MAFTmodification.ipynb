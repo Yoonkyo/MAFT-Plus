{
 "cells": [
  {
   "cell_type": "code",
   "execution_count": null,
   "id": "147412c2",
   "metadata": {},
   "outputs": [],
   "source": [
    "def run_on_image(self, image):\n",
    "        \"\"\"\n",
    "        Args:\n",
    "            image (np.ndarray): an image of shape (H, W, C) (in BGR order).\n",
    "                This is the format used by OpenCV.\n",
    "        Returns:\n",
    "            predictions (dict): the output of the model.\n",
    "            vis_output (VisImage): the visualized image output.\n",
    "        \"\"\"\n",
    "        vis_output = None\n",
    "        pdb.set_trace()\n",
    "        predictions = self.predictor(image)\n",
    "        # Convert image from OpenCV BGR format to Matplotlib RGB format.\n",
    "        image = image[:, :, ::-1]\n",
    "        visualizer = OpenVocabVisualizer(image, self.metadata, instance_mode=self.instance_mode)\n",
    "        # visualizer = OpenVocabVisualizer(image, self.metadata, instance_mode=self.instance_mode)\n",
    "        if \"panoptic_seg\" in predictions:\n",
    "            panoptic_seg, segments_info = predictions[\"panoptic_seg\"]\n",
    "            vis_output = visualizer.draw_panoptic_seg(\n",
    "                panoptic_seg.to(self.cpu_device), segments_info\n",
    "            )\n",
    "        else:\n",
    "            #if \"sem_seg\" in predictions:\n",
    "            #    vis_output = visualizer.draw_sem_seg(\n",
    "            #        predictions[\"sem_seg\"].argmax(dim=0).to(self.cpu_device)\n",
    "            #    )\n",
    "            if \"sem_seg\" in predictions:\n",
    "                sem_seg = predictions[\"sem_seg\"].to(self.cpu_device)  # shape: [C, H, W]\n",
    "\n",
    "                # Since you only have one class, sem_seg[0] is the score map for that class\n",
    "                score_map = sem_seg[0]  # shape: [H, W]\n",
    "\n",
    "                # Apply threshold\n",
    "                confidence_threshold = 0.6  # tune this value as needed\n",
    "                mask = score_map > confidence_threshold  # boolean mask [H, W]\n",
    "\n",
    "                # Create a segmentation map with only this class shown where mask is True\n",
    "                # Otherwise fill with 255 (usually treated as \"ignore\")\n",
    "                height, width = score_map.shape\n",
    "                segmentation = torch.full((height, width), 255, dtype=torch.uint8)  # 255 = ignore\n",
    "                segmentation[mask] = 0  # your only class index is 0\n",
    "\n",
    "                vis_output = visualizer.draw_sem_seg(segmentation)\n",
    "            if \"instances\" in predictions:\n",
    "                instances = predictions[\"instances\"].to(self.cpu_device)\n",
    "                vis_output = visualizer.draw_instance_predictions(predictions=instances)\n",
    "\n",
    "        return predictions, vis_output"
   ]
  }
 ],
 "metadata": {
  "kernelspec": {
   "display_name": "Python 3 (ipykernel)",
   "language": "python",
   "name": "python3"
  },
  "language_info": {
   "codemirror_mode": {
    "name": "ipython",
    "version": 3
   },
   "file_extension": ".py",
   "mimetype": "text/x-python",
   "name": "python",
   "nbconvert_exporter": "python",
   "pygments_lexer": "ipython3",
   "version": "3.9.12"
  }
 },
 "nbformat": 4,
 "nbformat_minor": 5
}
